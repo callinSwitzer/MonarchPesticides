{
 "cells": [
  {
   "cell_type": "code",
   "execution_count": null,
   "metadata": {},
   "outputs": [],
   "source": [
    "# Callin Switzer\n",
    "# 9 Sept 2019\n",
    "# python infrared reader"
   ]
  },
  {
   "cell_type": "code",
   "execution_count": 1,
   "metadata": {},
   "outputs": [],
   "source": [
    "import numpy as np\n",
    "import matplotlib.pyplot as plt\n",
    "import pandas as pd\n",
    "import serial\n",
    "import re\n",
    "import csv\n",
    "import seaborn as sns\n",
    "import warnings\n",
    "import sys\n",
    "import os\n",
    "from datetime import datetime\n",
    "import glob\n",
    "import time\n",
    "import io"
   ]
  },
  {
   "cell_type": "code",
   "execution_count": 2,
   "metadata": {},
   "outputs": [],
   "source": [
    "def is_mac():\n",
    "    mac = True if sys.platform == \"darwin\" else False\n",
    "    return(mac)\n",
    "    \n",
    "if not is_mac():\n",
    "    import msvcrt\n",
    "    import winsound"
   ]
  },
  {
   "cell_type": "code",
   "execution_count": 3,
   "metadata": {},
   "outputs": [
    {
     "name": "stdout",
     "output_type": "stream",
     "text": [
      "3.7.4 (default, Aug 13 2019, 15:17:50) \n",
      "[Clang 4.0.1 (tags/RELEASE_401/final)]\n",
      "/Users/cswitzer/anaconda3/envs/photogate/bin/python\n"
     ]
    }
   ],
   "source": [
    "%matplotlib inline\n",
    "print(sys.version)\n",
    "print(sys.executable)\n",
    "\n",
    "# define directories\n",
    "baseDir = os.getcwd()\n",
    "\n",
    "# data for storing datafile\n",
    "dataDir = r\"C:\\Users\\callin\\Desktop\\MonarchData\"\n",
    "if not os.path.isdir(dataDir):\n",
    "    os.mkdir(dataDir)\n",
    "\n",
    "figDir = r\"C:\\Users\\callin\\Desktop\\MonarchFigs\"\n",
    "if not os.path.isdir(figDir):\n",
    "    os.mkdir(figDir)"
   ]
  },
  {
   "cell_type": "code",
   "execution_count": 4,
   "metadata": {},
   "outputs": [
    {
     "data": {
      "text/plain": [
       "['/dev/tty.Bluetooth-Incoming-Port', '/dev/tty.usbmodem14101']"
      ]
     },
     "execution_count": 4,
     "metadata": {},
     "output_type": "execute_result"
    }
   ],
   "source": [
    "def serial_ports():\n",
    "    \"\"\" Lists serial port names\n",
    "        :raises EnvironmentError:\n",
    "            On unsupported or unknown platforms\n",
    "        :returns:\n",
    "            A list of the serial ports available on the system\n",
    "    \"\"\"\n",
    "    if sys.platform.startswith('win'):\n",
    "        ports = ['COM%s' % (i + 1) for i in range(256)]\n",
    "    elif sys.platform.startswith('linux') or sys.platform.startswith('cygwin'):\n",
    "        # this excludes your current terminal \"/dev/tty\"\n",
    "        ports = glob.glob('/dev/tty[A-Za-z]*')\n",
    "    elif sys.platform.startswith('darwin'):\n",
    "        ports = glob.glob('/dev/tty.*')\n",
    "    else:\n",
    "        raise EnvironmentError('Unsupported platform')\n",
    "\n",
    "    result = []\n",
    "    for port in ports:\n",
    "        try:\n",
    "            s = serial.Serial(port)\n",
    "            s.close()\n",
    "            result.append(port)\n",
    "        except (OSError, serial.SerialException):\n",
    "            pass\n",
    "    return result\n",
    "\n",
    "# list serial ports\n",
    "serial_ports() # this arduino is on COM6"
   ]
  },
  {
   "cell_type": "code",
   "execution_count": 5,
   "metadata": {},
   "outputs": [
    {
     "name": "stdout",
     "output_type": "stream",
     "text": [
      "connected to arduino on /dev/tty.usbmodem14101\n",
      " Setup complete\n",
      "\n"
     ]
    }
   ],
   "source": [
    "# connect to arduino\n",
    "PORT1 = '/dev/tty.usbmodem14101'\n",
    "\n",
    "connected1 = False\n",
    "if \"ser1\" in globals():\n",
    "    ser1.close()\n",
    "    \n",
    "ser1 = serial.Serial(PORT1, 115200, timeout=1.0) # stop if no data comes in 1 second\n",
    "while not connected1:\n",
    "    serin1 = ser1.read()\n",
    "    connected1 = True\n",
    "    print(\"connected to arduino on \" + PORT1)\n",
    "serin1 = ser1.readline()\n",
    "print(serin1.decode(\"utf-8\")) # should say \"setup complete\""
   ]
  },
  {
   "cell_type": "code",
   "execution_count": null,
   "metadata": {},
   "outputs": [],
   "source": [
    "ser1.close() # close serial connection"
   ]
  },
  {
   "cell_type": "code",
   "execution_count": 93,
   "metadata": {},
   "outputs": [
    {
     "name": "stdout",
     "output_type": "stream",
     "text": [
      "Time elapsed (minutes): 0\n",
      "Time elapsed (minutes): 5\n",
      "Time elapsed (minutes): 10\n",
      "Time elapsed (minutes): 15\n",
      "Time elapsed (minutes): 20\n",
      "Time elapsed (minutes): 25\n",
      "Time elapsed (minutes): 30\n",
      "Time elapsed (minutes): 35\n",
      "Time elapsed (minutes): 40\n",
      "Time elapsed (minutes): 45\n",
      "Time elapsed (minutes): 50\n",
      "Time elapsed (minutes): 55\n",
      "Time elapsed (minutes): 60\n",
      "Time elapsed (minutes): 65\n",
      "Time elapsed (minutes): 70\n",
      "Time elapsed (minutes): 75\n",
      "done\n"
     ]
    }
   ],
   "source": [
    "ctr = 0\n",
    "maxTime = 75 # minutes\n",
    "\n",
    "\n",
    "if not is_mac():\n",
    "    while msvcrt.kbhit():\n",
    "        msvcrt.getch()\n",
    "        print('clearing characters ...')\n",
    "        \n",
    "# turn off data collection if it's already started\n",
    "ser1.write(\"c\".encode(\"utf-8\")) # sending something that's not \"r\" tell arduino to stop recordin\n",
    "\n",
    "# read all data in the incoming buffer to clear it\n",
    "ser1.readlines() \n",
    "\n",
    "# sending an \"r\" tells the arduino so start recording\n",
    "ser1.write(\"r\".encode(\"utf-8\"))\n",
    "while True:\n",
    "    if not is_mac():\n",
    "        if msvcrt.kbhit(): # if q, or escape is pressed, then break the loop\n",
    "            k = msvcrt.getch()\n",
    "            if(k == b'q') | (k == b'\\x1b') | (k == b'\\x0b') :\n",
    "                print(\"keyboard break\")\n",
    "                winsound.MessageBeep()\n",
    "                break\n",
    "            \n",
    "\n",
    "    if ctr == 0:\n",
    "        \n",
    "        minuteCounter = 0\n",
    "       \n",
    "        # tell arduino to write data to serial\n",
    "        # discard first read line, in case it's the wrong length\n",
    "        ser1.readline()\n",
    "        \n",
    "        txt = ser1.readline().decode(\"utf-8\")\n",
    "        txt2 = (txt).rstrip().split(\",\") \n",
    "        colNames = [\"A\" + str(ii) for ii in range(len(txt2) -1)]\n",
    "        colNames.append(\"ardno_usec_snce_lst_read\")\n",
    "        colNames.append(\"python_datetime\")\n",
    "        \n",
    "        # make file  and write header\n",
    "        fileStart = datetime.now()\n",
    "        fname = (fileStart.strftime('%Y-%m-%d %H:%M:%S.%f'))\n",
    "        fname = re.sub(r'[^\\w\\s]','_',fname)\n",
    "        fname = re.sub(\" \", \"__\", fname)[0:] + \".csv\"\n",
    "\n",
    "        with open(os.path.join(dataDir, fname), 'a+', newline='') as myfile:\n",
    "            wr = csv.writer(myfile, quoting=csv.QUOTE_ALL)\n",
    "            wr.writerows([colNames])\n",
    "            \n",
    "            \n",
    "    \n",
    "    \n",
    "    # read data\n",
    "    txt = ser1.readline().decode(\"utf-8\")\n",
    "    line_to_write =  (txt + \",\" + datetime.now().\n",
    "                  strftime('%Y-%m-%d %H:%M:%S.%f')).rstrip().split(\",\")  \n",
    "\n",
    "    # check data before writing\n",
    "    if (len(line_to_write) != len(colNames)):\n",
    "        print(\"data length is different from length of columns, dropping a reading\")\n",
    "        print(line_to_write)\n",
    "        print(colNames)\n",
    "        print(ctr)\n",
    "        continue\n",
    "        \n",
    "    elif (np.max(list(map(int, line_to_write[:-3]))) > 1023):\n",
    "        print(\"data range incorrect, dropping a reading\")\n",
    "        continue\n",
    "    \n",
    "    else:\n",
    "        with open(os.path.join(dataDir, fname), 'a+', newline='') as myfile:\n",
    "            wr = csv.writer(myfile, quoting=csv.QUOTE_ALL)\n",
    "            wr.writerows([line_to_write])\n",
    "\n",
    "    # print time\n",
    "    readTime = datetime.now()\n",
    "    c = readTime - fileStart\n",
    "    if c.total_seconds()//60 == minuteCounter:\n",
    "        print(\"Time elapsed (minutes):\", minuteCounter)\n",
    "        minuteCounter += 5 # print every 5 minutes\n",
    "    \n",
    "    if divmod(c.days * 86400 + c.seconds, 60)[0] >= maxTime:\n",
    "        break   \n",
    "    \n",
    "    # update ctr\n",
    "    ctr += 1\n",
    "\n",
    "# stop data collection\n",
    "ser1.write(\"c\".encode(\"utf-8\"))\n",
    "\n",
    "print('done')"
   ]
  },
  {
   "cell_type": "code",
   "execution_count": 77,
   "metadata": {},
   "outputs": [
    {
     "data": {
      "text/plain": [
       "1"
      ]
     },
     "execution_count": 77,
     "metadata": {},
     "output_type": "execute_result"
    }
   ],
   "source": [
    "#ser1.write(\"c\".encode(\"utf-8\"))"
   ]
  },
  {
   "cell_type": "code",
   "execution_count": 94,
   "metadata": {},
   "outputs": [
    {
     "data": {
      "text/plain": [
       "''"
      ]
     },
     "execution_count": 94,
     "metadata": {},
     "output_type": "execute_result"
    }
   ],
   "source": [
    "ser1.readline().decode(\"utf-8\") # checks to make sure there's no more data in the buffer"
   ]
  },
  {
   "cell_type": "code",
   "execution_count": 95,
   "metadata": {},
   "outputs": [
    {
     "data": {
      "text/plain": [
       "75.00024553333333"
      ]
     },
     "execution_count": 95,
     "metadata": {},
     "output_type": "execute_result"
    }
   ],
   "source": [
    "# tells the num of minutes\n",
    "c.total_seconds()/60"
   ]
  },
  {
   "cell_type": "code",
   "execution_count": 96,
   "metadata": {},
   "outputs": [
    {
     "name": "stdout",
     "output_type": "stream",
     "text": [
      "(225037, 8)\n"
     ]
    },
    {
     "data": {
      "text/html": [
       "<div>\n",
       "<style scoped>\n",
       "    .dataframe tbody tr th:only-of-type {\n",
       "        vertical-align: middle;\n",
       "    }\n",
       "\n",
       "    .dataframe tbody tr th {\n",
       "        vertical-align: top;\n",
       "    }\n",
       "\n",
       "    .dataframe thead th {\n",
       "        text-align: right;\n",
       "    }\n",
       "</style>\n",
       "<table border=\"1\" class=\"dataframe\">\n",
       "  <thead>\n",
       "    <tr style=\"text-align: right;\">\n",
       "      <th></th>\n",
       "      <th>A0</th>\n",
       "      <th>A1</th>\n",
       "      <th>A2</th>\n",
       "      <th>A3</th>\n",
       "      <th>A4</th>\n",
       "      <th>A5</th>\n",
       "      <th>ardno_usec_snce_lst_read</th>\n",
       "      <th>python_datetime</th>\n",
       "    </tr>\n",
       "  </thead>\n",
       "  <tbody>\n",
       "    <tr>\n",
       "      <td>225032</td>\n",
       "      <td>173</td>\n",
       "      <td>195</td>\n",
       "      <td>256</td>\n",
       "      <td>256</td>\n",
       "      <td>305</td>\n",
       "      <td>305</td>\n",
       "      <td>20000</td>\n",
       "      <td>2019-09-10 11:39:25.379463</td>\n",
       "    </tr>\n",
       "    <tr>\n",
       "      <td>225033</td>\n",
       "      <td>173</td>\n",
       "      <td>196</td>\n",
       "      <td>256</td>\n",
       "      <td>264</td>\n",
       "      <td>319</td>\n",
       "      <td>327</td>\n",
       "      <td>20000</td>\n",
       "      <td>2019-09-10 11:39:25.396511</td>\n",
       "    </tr>\n",
       "    <tr>\n",
       "      <td>225034</td>\n",
       "      <td>173</td>\n",
       "      <td>195</td>\n",
       "      <td>256</td>\n",
       "      <td>263</td>\n",
       "      <td>323</td>\n",
       "      <td>323</td>\n",
       "      <td>20000</td>\n",
       "      <td>2019-09-10 11:39:25.417052</td>\n",
       "    </tr>\n",
       "    <tr>\n",
       "      <td>225035</td>\n",
       "      <td>173</td>\n",
       "      <td>195</td>\n",
       "      <td>256</td>\n",
       "      <td>255</td>\n",
       "      <td>302</td>\n",
       "      <td>296</td>\n",
       "      <td>20000</td>\n",
       "      <td>2019-09-10 11:39:25.437604</td>\n",
       "    </tr>\n",
       "    <tr>\n",
       "      <td>225036</td>\n",
       "      <td>172</td>\n",
       "      <td>196</td>\n",
       "      <td>256</td>\n",
       "      <td>251</td>\n",
       "      <td>292</td>\n",
       "      <td>288</td>\n",
       "      <td>20000</td>\n",
       "      <td>2019-09-10 11:39:25.457995</td>\n",
       "    </tr>\n",
       "  </tbody>\n",
       "</table>\n",
       "</div>"
      ],
      "text/plain": [
       "         A0   A1   A2   A3   A4   A5  ardno_usec_snce_lst_read  \\\n",
       "225032  173  195  256  256  305  305                     20000   \n",
       "225033  173  196  256  264  319  327                     20000   \n",
       "225034  173  195  256  263  323  323                     20000   \n",
       "225035  173  195  256  255  302  296                     20000   \n",
       "225036  172  196  256  251  292  288                     20000   \n",
       "\n",
       "                  python_datetime  \n",
       "225032 2019-09-10 11:39:25.379463  \n",
       "225033 2019-09-10 11:39:25.396511  \n",
       "225034 2019-09-10 11:39:25.417052  \n",
       "225035 2019-09-10 11:39:25.437604  \n",
       "225036 2019-09-10 11:39:25.457995  "
      ]
     },
     "execution_count": 96,
     "metadata": {},
     "output_type": "execute_result"
    }
   ],
   "source": [
    "from pandas.plotting import register_matplotlib_converters\n",
    "register_matplotlib_converters()\n",
    "\n",
    "# look at data\n",
    "# read in data\n",
    "dfile = os.path.join(dataDir,fname)\n",
    "df1 = pd.read_csv(dfile)\n",
    "#df1 = df1.iloc[1500:2000,:].copy()\n",
    "df1['python_datetime']= pd.to_datetime(df1['python_datetime'])\n",
    "print(df1.shape)\n",
    "df1.tail()"
   ]
  },
  {
   "cell_type": "code",
   "execution_count": 97,
   "metadata": {},
   "outputs": [
    {
     "name": "stdout",
     "output_type": "stream",
     "text": [
      "avg sample per sec:  50.00829181153851\n"
     ]
    }
   ],
   "source": [
    "tot_sec = np.array(df1.python_datetime.iloc[[0,-1]].diff() / np.timedelta64(1, 's'))[1]\n",
    "print(\"avg sample per sec: \", df1.shape[0] / tot_sec)"
   ]
  },
  {
   "cell_type": "code",
   "execution_count": 98,
   "metadata": {},
   "outputs": [
    {
     "data": {
      "image/png": "[encoded data removed]",
      "text/plain": [
       "<Figure size 1440x504 with 1 Axes>"
      ]
     },
     "metadata": {
      "needs_background": "light"
     },
     "output_type": "display_data"
    }
   ],
   "source": [
    "fig, ax = plt.subplots(1,1, figsize = [20,7])\n",
    "for ii in range(3):\n",
    "    ax.plot(df1.python_datetime, df1.iloc[:,ii])\n",
    "fig.autofmt_xdate()\n",
    "plt.show()"
   ]
  },
  {
   "cell_type": "code",
   "execution_count": 99,
   "metadata": {},
   "outputs": [
    {
     "data": {
      "text/plain": [
       "'2019_09_10__10_24_25_443819.csv'"
      ]
     },
     "execution_count": 99,
     "metadata": {},
     "output_type": "execute_result"
    }
   ],
   "source": [
    "fname"
   ]
  },
  {
   "cell_type": "code",
   "execution_count": 100,
   "metadata": {},
   "outputs": [
    {
     "data": {
      "text/plain": [
       "Text(0.5, 0, 'sample num')"
      ]
     },
     "execution_count": 100,
     "metadata": {},
     "output_type": "execute_result"
    },
    {
     "data": {
      "image/png": "[encoded data removed]",
      "text/plain": [
       "<Figure size 432x288 with 1 Axes>"
      ]
     },
     "metadata": {
      "needs_background": "light"
     },
     "output_type": "display_data"
    }
   ],
   "source": [
    "# calculate sampling rate, based on python timestamp\n",
    "timeDiff = df1.python_datetime.diff() / np.timedelta64(1, 's')\n",
    "plt.plot(1/timeDiff, 'bo')\n",
    "plt.ylabel(\"Hz\")\n",
    "plt.xlabel(\"sample num\")"
   ]
  },
  {
   "cell_type": "code",
   "execution_count": 101,
   "metadata": {},
   "outputs": [
    {
     "data": {
      "text/plain": [
       "Text(0, 0.5, 'microseconds between samples')"
      ]
     },
     "execution_count": 101,
     "metadata": {},
     "output_type": "execute_result"
    },
    {
     "data": {
      "image/png": "[encoded data removed]",
      "text/plain": [
       "<Figure size 432x288 with 1 Axes>"
      ]
     },
     "metadata": {
      "needs_background": "light"
     },
     "output_type": "display_data"
    }
   ],
   "source": [
    "# show sampling rate from arduino\n",
    "plt.plot(df1.ardno_usec_snce_lst_read)\n",
    "plt.ylabel(\"microseconds between samples\")"
   ]
  },
  {
   "cell_type": "code",
   "execution_count": 102,
   "metadata": {},
   "outputs": [
    {
     "data": {
      "text/plain": [
       "Text(0.5, 0, 'Sample')"
      ]
     },
     "execution_count": 102,
     "metadata": {},
     "output_type": "execute_result"
    },
    {
     "data": {
      "image/png": "[encoded data removed]",
      "text/plain": [
       "<Figure size 432x288 with 1 Axes>"
      ]
     },
     "metadata": {
      "needs_background": "light"
     },
     "output_type": "display_data"
    }
   ],
   "source": [
    "# show sampling rate from arduino\n",
    "plt.plot(1/np.array(df1.ardno_usec_snce_lst_read)*10**6)\n",
    "plt.ylabel('Hz')\n",
    "plt.xlabel(\"Sample\")"
   ]
  },
  {
   "cell_type": "code",
   "execution_count": 103,
   "metadata": {},
   "outputs": [],
   "source": [
    "ser1.close()"
   ]
  },
  {
   "cell_type": "code",
   "execution_count": null,
   "metadata": {},
   "outputs": [],
   "source": [
    "# int.from_bytes(b'\\n', byteorder='big')"
   ]
  }
 ],
 "metadata": {
  "kernelspec": {
   "display_name": "photogate",
   "language": "python",
   "name": "photogate"
  },
  "language_info": {
   "codemirror_mode": {
    "name": "ipython",
    "version": 3
   },
   "file_extension": ".py",
   "mimetype": "text/x-python",
   "name": "python",
   "nbconvert_exporter": "python",
   "pygments_lexer": "ipython3",
   "version": "3.7.4"
  }
 },
 "nbformat": 4,
 "nbformat_minor": 4
}
