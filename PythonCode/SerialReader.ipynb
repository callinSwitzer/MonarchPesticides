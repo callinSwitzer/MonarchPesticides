{
 "cells": [
  {
   "cell_type": "code",
   "execution_count": null,
   "metadata": {},
   "outputs": [],
   "source": [
    "# Callin Switzer\n",
    "# 16 July 2019\n",
    "# python infrared reader"
   ]
  },
  {
   "cell_type": "code",
   "execution_count": 1,
   "metadata": {},
   "outputs": [],
   "source": [
    "import numpy as np\n",
    "import matplotlib.pyplot as plt\n",
    "import pandas as pd\n",
    "import serial\n",
    "import re\n",
    "import csv\n",
    "import seaborn as sns\n",
    "import warnings\n",
    "import sys\n",
    "import os\n",
    "from datetime import datetime\n",
    "import glob"
   ]
  },
  {
   "cell_type": "code",
   "execution_count": 2,
   "metadata": {},
   "outputs": [],
   "source": [
    "def is_mac():\n",
    "    mac = True if sys.platform == \"darwin\" else False\n",
    "    return(mac)\n",
    "    \n",
    "if not is_mac():\n",
    "    import msvcrt\n",
    "    import winsound"
   ]
  },
  {
   "cell_type": "code",
   "execution_count": 5,
   "metadata": {},
   "outputs": [
    {
     "name": "stdout",
     "output_type": "stream",
     "text": [
      "3.7.4 (default, Aug 13 2019, 15:17:50) \n",
      "[Clang 4.0.1 (tags/RELEASE_401/final)]\n",
      "/Users/cswitzer/anaconda3/envs/photogate/bin/python\n"
     ]
    }
   ],
   "source": [
    "%matplotlib inline\n",
    "print(sys.version)\n",
    "print(sys.executable)\n",
    "\n",
    "# define directories\n",
    "baseDir = os.getcwd()\n",
    "\n",
    "# data for storing datafile\n",
    "dataDir = r\"/Users/cswitzer/Desktop/MonarchSensor\"\n",
    "if not os.path.isdir(dataDir):\n",
    "    os.mkdir(dataDir)\n",
    "\n",
    "figDir = r\"/Users/cswitzer/Desktop/MonarchFigs\"\n",
    "if not os.path.isdir(figDir):\n",
    "    os.mkdir(figDir)"
   ]
  },
  {
   "cell_type": "code",
   "execution_count": 6,
   "metadata": {},
   "outputs": [
    {
     "data": {
      "text/plain": [
       "['/dev/tty.Bluetooth-Incoming-Port', '/dev/tty.usbmodem14101']"
      ]
     },
     "execution_count": 6,
     "metadata": {},
     "output_type": "execute_result"
    }
   ],
   "source": [
    "def serial_ports():\n",
    "    \"\"\" Lists serial port names\n",
    "        :raises EnvironmentError:\n",
    "            On unsupported or unknown platforms\n",
    "        :returns:\n",
    "            A list of the serial ports available on the system\n",
    "    \"\"\"\n",
    "    if sys.platform.startswith('win'):\n",
    "        ports = ['COM%s' % (i + 1) for i in range(256)]\n",
    "    elif sys.platform.startswith('linux') or sys.platform.startswith('cygwin'):\n",
    "        # this excludes your current terminal \"/dev/tty\"\n",
    "        ports = glob.glob('/dev/tty[A-Za-z]*')\n",
    "    elif sys.platform.startswith('darwin'):\n",
    "        ports = glob.glob('/dev/tty.*')\n",
    "    else:\n",
    "        raise EnvironmentError('Unsupported platform')\n",
    "\n",
    "    result = []\n",
    "    for port in ports:\n",
    "        try:\n",
    "            s = serial.Serial(port)\n",
    "            s.close()\n",
    "            result.append(port)\n",
    "        except (OSError, serial.SerialException):\n",
    "            pass\n",
    "    return result\n",
    "\n",
    "# list serial ports\n",
    "serial_ports() # this arduino is on COM6"
   ]
  },
  {
   "cell_type": "code",
   "execution_count": 7,
   "metadata": {},
   "outputs": [
    {
     "name": "stdout",
     "output_type": "stream",
     "text": [
      "connected to arduino on /dev/tty.usbmodem14101\n"
     ]
    },
    {
     "data": {
      "text/plain": [
       "' Setup complete\\r\\n'"
      ]
     },
     "execution_count": 7,
     "metadata": {},
     "output_type": "execute_result"
    }
   ],
   "source": [
    "# connect to arduino\n",
    "PORT1 = '/dev/tty.usbmodem14101'\n",
    "connected1 = False\n",
    "if \"ser1\" in globals():\n",
    "    ser1.close()\n",
    "ser1 = serial.Serial(PORT1, 19200, timeout=1.0) # stop if no data comes in 1 second\n",
    "while not connected1:\n",
    "    serin1 = ser1.read()\n",
    "    connected1 = True\n",
    "    print(\"connected to arduino on \" + PORT1)\n",
    "str(ser1.readline().decode(\"UTF-8\"))  # read some example data   "
   ]
  },
  {
   "cell_type": "code",
   "execution_count": 14,
   "metadata": {},
   "outputs": [
    {
     "name": "stdout",
     "output_type": "stream",
     "text": [
      "Time elapsed (minutes): 0\n"
     ]
    },
    {
     "ename": "KeyboardInterrupt",
     "evalue": "",
     "output_type": "error",
     "traceback": [
      "\u001b[0;31m---------------------------------------------------------------------------\u001b[0m",
      "\u001b[0;31mKeyboardInterrupt\u001b[0m                         Traceback (most recent call last)",
      "\u001b[0;32m<ipython-input-14-b16036a35962>\u001b[0m in \u001b[0;36m<module>\u001b[0;34m\u001b[0m\n\u001b[1;32m     46\u001b[0m     \u001b[0;31m# read data\u001b[0m\u001b[0;34m\u001b[0m\u001b[0;34m\u001b[0m\u001b[0;34m\u001b[0m\u001b[0m\n\u001b[1;32m     47\u001b[0m     \u001b[0mser1\u001b[0m\u001b[0;34m.\u001b[0m\u001b[0mwrite\u001b[0m\u001b[0;34m(\u001b[0m\u001b[0;34m\"r\"\u001b[0m\u001b[0;34m.\u001b[0m\u001b[0mencode\u001b[0m\u001b[0;34m(\u001b[0m\u001b[0;34m\"utf-8\"\u001b[0m\u001b[0;34m)\u001b[0m\u001b[0;34m)\u001b[0m\u001b[0;34m\u001b[0m\u001b[0;34m\u001b[0m\u001b[0m\n\u001b[0;32m---> 48\u001b[0;31m     \u001b[0mtxt\u001b[0m \u001b[0;34m=\u001b[0m \u001b[0mser1\u001b[0m\u001b[0;34m.\u001b[0m\u001b[0mreadline\u001b[0m\u001b[0;34m(\u001b[0m\u001b[0;34m)\u001b[0m\u001b[0;34m.\u001b[0m\u001b[0mdecode\u001b[0m\u001b[0;34m(\u001b[0m\u001b[0;34m\"utf-8\"\u001b[0m\u001b[0;34m)\u001b[0m\u001b[0;34m\u001b[0m\u001b[0;34m\u001b[0m\u001b[0m\n\u001b[0m\u001b[1;32m     49\u001b[0m \u001b[0;34m\u001b[0m\u001b[0m\n\u001b[1;32m     50\u001b[0m     \u001b[0mserData\u001b[0m \u001b[0;34m=\u001b[0m \u001b[0;34m[\u001b[0m\u001b[0mint\u001b[0m\u001b[0;34m(\u001b[0m\u001b[0mi\u001b[0m\u001b[0;34m)\u001b[0m \u001b[0;32mfor\u001b[0m \u001b[0mi\u001b[0m \u001b[0;32min\u001b[0m \u001b[0mtxt\u001b[0m\u001b[0;34m.\u001b[0m\u001b[0msplit\u001b[0m\u001b[0;34m(\u001b[0m\u001b[0;34m','\u001b[0m\u001b[0;34m)\u001b[0m \u001b[0;32mif\u001b[0m \u001b[0mi\u001b[0m \u001b[0;34m!=\u001b[0m \u001b[0;34m\"\"\u001b[0m\u001b[0;34m]\u001b[0m\u001b[0;34m\u001b[0m\u001b[0;34m\u001b[0m\u001b[0m\n",
      "\u001b[0;32m~/anaconda3/envs/photogate/lib/python3.7/site-packages/serial/serialposix.py\u001b[0m in \u001b[0;36mread\u001b[0;34m(self, size)\u001b[0m\n\u001b[1;32m    481\u001b[0m         \u001b[0;32mwhile\u001b[0m \u001b[0mlen\u001b[0m\u001b[0;34m(\u001b[0m\u001b[0mread\u001b[0m\u001b[0;34m)\u001b[0m \u001b[0;34m<\u001b[0m \u001b[0msize\u001b[0m\u001b[0;34m:\u001b[0m\u001b[0;34m\u001b[0m\u001b[0;34m\u001b[0m\u001b[0m\n\u001b[1;32m    482\u001b[0m             \u001b[0;32mtry\u001b[0m\u001b[0;34m:\u001b[0m\u001b[0;34m\u001b[0m\u001b[0;34m\u001b[0m\u001b[0m\n\u001b[0;32m--> 483\u001b[0;31m                 \u001b[0mready\u001b[0m\u001b[0;34m,\u001b[0m \u001b[0m_\u001b[0m\u001b[0;34m,\u001b[0m \u001b[0m_\u001b[0m \u001b[0;34m=\u001b[0m \u001b[0mselect\u001b[0m\u001b[0;34m.\u001b[0m\u001b[0mselect\u001b[0m\u001b[0;34m(\u001b[0m\u001b[0;34m[\u001b[0m\u001b[0mself\u001b[0m\u001b[0;34m.\u001b[0m\u001b[0mfd\u001b[0m\u001b[0;34m,\u001b[0m \u001b[0mself\u001b[0m\u001b[0;34m.\u001b[0m\u001b[0mpipe_abort_read_r\u001b[0m\u001b[0;34m]\u001b[0m\u001b[0;34m,\u001b[0m \u001b[0;34m[\u001b[0m\u001b[0;34m]\u001b[0m\u001b[0;34m,\u001b[0m \u001b[0;34m[\u001b[0m\u001b[0;34m]\u001b[0m\u001b[0;34m,\u001b[0m \u001b[0mtimeout\u001b[0m\u001b[0;34m.\u001b[0m\u001b[0mtime_left\u001b[0m\u001b[0;34m(\u001b[0m\u001b[0;34m)\u001b[0m\u001b[0;34m)\u001b[0m\u001b[0;34m\u001b[0m\u001b[0;34m\u001b[0m\u001b[0m\n\u001b[0m\u001b[1;32m    484\u001b[0m                 \u001b[0;32mif\u001b[0m \u001b[0mself\u001b[0m\u001b[0;34m.\u001b[0m\u001b[0mpipe_abort_read_r\u001b[0m \u001b[0;32min\u001b[0m \u001b[0mready\u001b[0m\u001b[0;34m:\u001b[0m\u001b[0;34m\u001b[0m\u001b[0;34m\u001b[0m\u001b[0m\n\u001b[1;32m    485\u001b[0m                     \u001b[0mos\u001b[0m\u001b[0;34m.\u001b[0m\u001b[0mread\u001b[0m\u001b[0;34m(\u001b[0m\u001b[0mself\u001b[0m\u001b[0;34m.\u001b[0m\u001b[0mpipe_abort_read_r\u001b[0m\u001b[0;34m,\u001b[0m \u001b[0;36m1000\u001b[0m\u001b[0;34m)\u001b[0m\u001b[0;34m\u001b[0m\u001b[0;34m\u001b[0m\u001b[0m\n",
      "\u001b[0;31mKeyboardInterrupt\u001b[0m: "
     ]
    }
   ],
   "source": [
    "ctr = 0\n",
    "maxTime = 6 # minutes\n",
    "\n",
    "\n",
    "if not is_mac():\n",
    "    while msvcrt.kbhit():\n",
    "        msvcrt.getch()\n",
    "        print('clearing characters ...')\n",
    "\n",
    "\n",
    "while True:\n",
    "    if not is_mac():\n",
    "        if msvcrt.kbhit(): # if q, or escape is pressed, then break the loop\n",
    "            k = msvcrt.getch()\n",
    "            if(k == b'q') | (k == b'\\x1b') | (k == b'\\x0b') :\n",
    "                print(\"keyboard break\")\n",
    "                winsound.MessageBeep()\n",
    "                break\n",
    "            \n",
    "\n",
    "    if ctr == 0:\n",
    "        \n",
    "        minuteCounter = 0\n",
    "       \n",
    "        # tell arduino to write data to serial\n",
    "        ser1.write(\"r\".encode(\"utf-8\"))\n",
    "        # discard first read line, in case it's the wrong length\n",
    "        ser1.readline()\n",
    "        \n",
    "        ser1.write(\"r\".encode(\"utf-8\"))\n",
    "        txt = ser1.readline().decode(\"utf-8\")\n",
    "        colNames = [\"A\" + str(i) for i, _ in enumerate(txt.split(','))]\n",
    "        colNames.append(\"datetime\")\n",
    "        \n",
    "        # make file  and write header\n",
    "        fileStart = datetime.now()\n",
    "        fname = (fileStart.strftime('%Y-%m-%d %H:%M:%S.%f'))\n",
    "        fname = re.sub(r'[^\\w\\s]','_',fname)\n",
    "        fname = re.sub(\" \", \"__\", fname)[0:] + \".csv\"\n",
    "\n",
    "        with open(os.path.join(dataDir, fname), 'a+', newline='') as myfile:\n",
    "            wr = csv.writer(myfile, quoting=csv.QUOTE_ALL)\n",
    "            wr.writerows([colNames])\n",
    "    \n",
    "    \n",
    "    # read data\n",
    "    ser1.write(\"r\".encode(\"utf-8\"))\n",
    "    txt = ser1.readline().decode(\"utf-8\")\n",
    "    \n",
    "    serData = [int(i) for i in txt.split(',') if i != \"\"]\n",
    "    readTime = datetime.now()\n",
    "    serData.append(readTime.strftime('%Y-%m-%d %H:%M:%S.%f'))\n",
    "\n",
    "    # write data, but only if it's not an incorrect reading\n",
    "    if (len(serData) != len(colNames)):\n",
    "        print(\"data length is different from length of columns, dropping a reading\")\n",
    "        print(serData)\n",
    "        print(colNames)\n",
    "        continue\n",
    "        \n",
    "    elif (np.max(serData[:-1]) > 1023):\n",
    "        print(\"data range incorrect, dropping a reading\")\n",
    "        continue\n",
    "    \n",
    "    else:\n",
    "        with open(os.path.join(dataDir, fname), 'a+', newline='') as myfile:\n",
    "            wr = csv.writer(myfile, quoting=csv.QUOTE_ALL)\n",
    "            wr.writerows([serData])\n",
    "\n",
    "    # print time\n",
    "    c = readTime - fileStart\n",
    "    if c.total_seconds()//60 == minuteCounter:\n",
    "        print(\"Time elapsed (minutes):\", minuteCounter)\n",
    "        minuteCounter += 5 # print every 5 minutes\n",
    "    \n",
    "    if divmod(c.days * 86400 + c.seconds, 60)[0] >= maxTime:\n",
    "        break   \n",
    "    \n",
    "    # update ctr\n",
    "    ctr += 1\n",
    "#     ser1.flushInput()\n",
    "\n",
    "print('done')"
   ]
  },
  {
   "cell_type": "code",
   "execution_count": 15,
   "metadata": {},
   "outputs": [
    {
     "data": {
      "text/plain": [
       "0.22841215"
      ]
     },
     "execution_count": 15,
     "metadata": {},
     "output_type": "execute_result"
    }
   ],
   "source": [
    "c.total_seconds()/60"
   ]
  },
  {
   "cell_type": "code",
   "execution_count": 16,
   "metadata": {},
   "outputs": [
    {
     "name": "stdout",
     "output_type": "stream",
     "text": [
      "(1097, 7)\n"
     ]
    },
    {
     "data": {
      "text/html": [
       "<div>\n",
       "<style scoped>\n",
       "    .dataframe tbody tr th:only-of-type {\n",
       "        vertical-align: middle;\n",
       "    }\n",
       "\n",
       "    .dataframe tbody tr th {\n",
       "        vertical-align: top;\n",
       "    }\n",
       "\n",
       "    .dataframe thead th {\n",
       "        text-align: right;\n",
       "    }\n",
       "</style>\n",
       "<table border=\"1\" class=\"dataframe\">\n",
       "  <thead>\n",
       "    <tr style=\"text-align: right;\">\n",
       "      <th></th>\n",
       "      <th>A0</th>\n",
       "      <th>A1</th>\n",
       "      <th>A2</th>\n",
       "      <th>A3</th>\n",
       "      <th>A4</th>\n",
       "      <th>A5</th>\n",
       "      <th>datetime</th>\n",
       "    </tr>\n",
       "  </thead>\n",
       "  <tbody>\n",
       "    <tr>\n",
       "      <td>1092</td>\n",
       "      <td>241</td>\n",
       "      <td>205</td>\n",
       "      <td>213</td>\n",
       "      <td>220</td>\n",
       "      <td>256</td>\n",
       "      <td>258</td>\n",
       "      <td>2019-09-03 15:32:12.688553</td>\n",
       "    </tr>\n",
       "    <tr>\n",
       "      <td>1093</td>\n",
       "      <td>241</td>\n",
       "      <td>204</td>\n",
       "      <td>213</td>\n",
       "      <td>209</td>\n",
       "      <td>241</td>\n",
       "      <td>249</td>\n",
       "      <td>2019-09-03 15:32:12.700786</td>\n",
       "    </tr>\n",
       "    <tr>\n",
       "      <td>1094</td>\n",
       "      <td>241</td>\n",
       "      <td>204</td>\n",
       "      <td>213</td>\n",
       "      <td>209</td>\n",
       "      <td>239</td>\n",
       "      <td>234</td>\n",
       "      <td>2019-09-03 15:32:12.713141</td>\n",
       "    </tr>\n",
       "    <tr>\n",
       "      <td>1095</td>\n",
       "      <td>241</td>\n",
       "      <td>204</td>\n",
       "      <td>213</td>\n",
       "      <td>215</td>\n",
       "      <td>243</td>\n",
       "      <td>245</td>\n",
       "      <td>2019-09-03 15:32:12.725362</td>\n",
       "    </tr>\n",
       "    <tr>\n",
       "      <td>1096</td>\n",
       "      <td>241</td>\n",
       "      <td>205</td>\n",
       "      <td>213</td>\n",
       "      <td>219</td>\n",
       "      <td>255</td>\n",
       "      <td>262</td>\n",
       "      <td>2019-09-03 15:32:12.737717</td>\n",
       "    </tr>\n",
       "  </tbody>\n",
       "</table>\n",
       "</div>"
      ],
      "text/plain": [
       "       A0   A1   A2   A3   A4   A5                   datetime\n",
       "1092  241  205  213  220  256  258 2019-09-03 15:32:12.688553\n",
       "1093  241  204  213  209  241  249 2019-09-03 15:32:12.700786\n",
       "1094  241  204  213  209  239  234 2019-09-03 15:32:12.713141\n",
       "1095  241  204  213  215  243  245 2019-09-03 15:32:12.725362\n",
       "1096  241  205  213  219  255  262 2019-09-03 15:32:12.737717"
      ]
     },
     "execution_count": 16,
     "metadata": {},
     "output_type": "execute_result"
    }
   ],
   "source": [
    "# look at data\n",
    "# read in data\n",
    "dfile = os.path.join(dataDir,fname)\n",
    "df1 = pd.read_csv(dfile)\n",
    "#df1 = df1.iloc[1500:2000,:].copy()\n",
    "df1['datetime']= pd.to_datetime(df1['datetime'])\n",
    "print(df1.shape)\n",
    "df1.tail()"
   ]
  },
  {
   "cell_type": "code",
   "execution_count": 17,
   "metadata": {},
   "outputs": [
    {
     "data": {
      "image/png": "[encoded data removed]",
      "text/plain": [
       "<Figure size 1440x504 with 1 Axes>"
      ]
     },
     "metadata": {
      "needs_background": "light"
     },
     "output_type": "display_data"
    }
   ],
   "source": [
    "fig, ax = plt.subplots(1,1, figsize = [20,7])\n",
    "for ii in range(3):\n",
    "    ax.plot(df1.datetime, df1.iloc[:,ii])\n",
    "fig.autofmt_xdate()\n",
    "plt.show()\n"
   ]
  },
  {
   "cell_type": "code",
   "execution_count": 18,
   "metadata": {},
   "outputs": [
    {
     "data": {
      "text/plain": [
       "'2019_09_03__15_31_59_032988.csv'"
      ]
     },
     "execution_count": 18,
     "metadata": {},
     "output_type": "execute_result"
    }
   ],
   "source": [
    "fname"
   ]
  },
  {
   "cell_type": "code",
   "execution_count": 19,
   "metadata": {},
   "outputs": [
    {
     "data": {
      "text/plain": [
       "Text(0.5, 0, 'sample num')"
      ]
     },
     "execution_count": 19,
     "metadata": {},
     "output_type": "execute_result"
    },
    {
     "data": {
      "image/png": "[encoded data removed]",
      "text/plain": [
       "<Figure size 432x288 with 1 Axes>"
      ]
     },
     "metadata": {
      "needs_background": "light"
     },
     "output_type": "display_data"
    }
   ],
   "source": [
    "# calculate sampling rate\n",
    "# we can speed this up if needed\n",
    "# it's not super constant\n",
    "timeDiff = df1.datetime.diff() / np.timedelta64(1, 's')\n",
    "plt.plot(1/timeDiff, 'bo')\n",
    "plt.ylabel(\"Hz\")\n",
    "plt.xlabel(\"sample num\")"
   ]
  },
  {
   "cell_type": "code",
   "execution_count": null,
   "metadata": {},
   "outputs": [],
   "source": [
    "# calculate sampling rate\n",
    "# we can speed this up if needed\n",
    "# it's not super constant\n",
    "timeDiff = df1.datetime.diff() / np.timedelta64(1, 's')\n",
    "plt.plot(1/timeDiff[:100])\n",
    "plt.ylabel(\"Hz\")\n",
    "plt.xlabel(\"sample num\")"
   ]
  },
  {
   "cell_type": "code",
   "execution_count": null,
   "metadata": {},
   "outputs": [],
   "source": []
  }
 ],
 "metadata": {
  "kernelspec": {
   "display_name": "photogate",
   "language": "python",
   "name": "photogate"
  },
  "language_info": {
   "codemirror_mode": {
    "name": "ipython",
    "version": 3
   },
   "file_extension": ".py",
   "mimetype": "text/x-python",
   "name": "python",
   "nbconvert_exporter": "python",
   "pygments_lexer": "ipython3",
   "version": "3.7.4"
  }
 },
 "nbformat": 4,
 "nbformat_minor": 2
}
