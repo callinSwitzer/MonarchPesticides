{
 "cells": [
  {
   "cell_type": "code",
   "execution_count": null,
   "metadata": {},
   "outputs": [],
   "source": [
    "# Callin Switzer\n",
    "# 16 July 2019\n",
    "# python infrared reader"
   ]
  },
  {
   "cell_type": "code",
   "execution_count": 1,
   "metadata": {},
   "outputs": [],
   "source": [
    "    \n",
    "import numpy as np\n",
    "import matplotlib.pyplot as plt\n",
    "import pandas as pd\n",
    "import serial\n",
    "import re\n",
    "import csv\n",
    "import seaborn as sns\n",
    "import warnings\n",
    "import sys\n",
    "import os\n",
    "from datetime import datetime\n",
    "import msvcrt\n",
    "import winsound"
   ]
  },
  {
   "cell_type": "code",
   "execution_count": 2,
   "metadata": {},
   "outputs": [
    {
     "name": "stdout",
     "output_type": "stream",
     "text": [
      "3.7.3 (default, Apr 24 2019, 15:29:51) [MSC v.1915 64 bit (AMD64)]\n",
      "C:\\Anaconda3\\envs\\photogate\\python.exe\n"
     ]
    }
   ],
   "source": [
    "%matplotlib inline\n",
    "print(sys.version)\n",
    "print(sys.executable)\n",
    "\n",
    "# define directories\n",
    "baseDir = os.getcwd()\n",
    "\n",
    "# may want to make this directory somewhere else, if dropbox becomes a problem\n",
    "dataDir = r\"C:\\Users\\cswitzer.BEES\\Desktop\\MonarchSensor\"\n",
    "if not os.path.isdir(dataDir):\n",
    "    os.mkdir(dataDir)\n",
    "\n",
    "figDir = r\"C:\\Users\\cswitzer.BEES\\Desktop\\MonarchFigs\"\n",
    "if not os.path.isdir(figDir):\n",
    "    os.mkdir(figDir)"
   ]
  },
  {
   "cell_type": "code",
   "execution_count": 3,
   "metadata": {},
   "outputs": [
    {
     "data": {
      "text/plain": [
       "['COM1', 'COM3', 'COM4', 'COM6']"
      ]
     },
     "execution_count": 3,
     "metadata": {},
     "output_type": "execute_result"
    }
   ],
   "source": [
    "def serial_ports():\n",
    "    \"\"\" Lists serial port names\n",
    "        :raises EnvironmentError:\n",
    "            On unsupported or unknown platforms\n",
    "        :returns:\n",
    "            A list of the serial ports available on the system\n",
    "    \"\"\"\n",
    "    if sys.platform.startswith('win'):\n",
    "        ports = ['COM%s' % (i + 1) for i in range(256)]\n",
    "    elif sys.platform.startswith('linux') or sys.platform.startswith('cygwin'):\n",
    "        # this excludes your current terminal \"/dev/tty\"\n",
    "        ports = glob.glob('/dev/tty[A-Za-z]*')\n",
    "    elif sys.platform.startswith('darwin'):\n",
    "        ports = glob.glob('/dev/tty.*')\n",
    "    else:\n",
    "        raise EnvironmentError('Unsupported platform')\n",
    "\n",
    "    result = []\n",
    "    for port in ports:\n",
    "        try:\n",
    "            s = serial.Serial(port)\n",
    "            s.close()\n",
    "            result.append(port)\n",
    "        except (OSError, serial.SerialException):\n",
    "            pass\n",
    "    return result\n",
    "\n",
    "# list serial ports\n",
    "serial_ports() # this arduino is on COM6"
   ]
  },
  {
   "cell_type": "code",
   "execution_count": 4,
   "metadata": {},
   "outputs": [
    {
     "name": "stdout",
     "output_type": "stream",
     "text": [
      "connected to arduino on COM6\n"
     ]
    },
    {
     "data": {
      "text/plain": [
       "'115,170\\n'"
      ]
     },
     "execution_count": 4,
     "metadata": {},
     "output_type": "execute_result"
    }
   ],
   "source": [
    "# connect to arduino\n",
    "PORT1 = \"COM6\"\n",
    "connected1 = False\n",
    "if \"ser1\" in globals():\n",
    "    ser1.close()\n",
    "ser1 = serial.Serial(PORT1, 9600, timeout=1.0) # stop if no data comes in 1 second\n",
    "while not connected1:\n",
    "    serin1 = ser1.read()\n",
    "    connected1 = True\n",
    "    print(\"connected to arduino on \" + PORT1)\n",
    "str(ser1.readline().decode(\"UTF-8\"))  # read some example data   "
   ]
  },
  {
   "cell_type": "code",
   "execution_count": 5,
   "metadata": {},
   "outputs": [
    {
     "data": {
      "text/plain": [
       "['A0', 'A1', 'datetime']"
      ]
     },
     "execution_count": 5,
     "metadata": {},
     "output_type": "execute_result"
    }
   ],
   "source": [
    "txt = ser1.readline().decode(\"utf-8\")\n",
    "colNames = [\"A\" + str(i) for i, _ in enumerate(txt.split(','))]\n",
    "colNames.append(\"datetime\")\n",
    "colNames"
   ]
  },
  {
   "cell_type": "code",
   "execution_count": 38,
   "metadata": {},
   "outputs": [
    {
     "name": "stdout",
     "output_type": "stream",
     "text": [
      "Time elapsed (minutes): 0\n",
      "Time elapsed (minutes): 1\n",
      "Time elapsed (minutes): 2\n",
      "Time elapsed (minutes): 3\n",
      "Time elapsed (minutes): 4\n",
      "Time elapsed (minutes): 5\n",
      "Time elapsed (minutes): 6\n",
      "Time elapsed (minutes): 7\n",
      "Time elapsed (minutes): 8\n",
      "Time elapsed (minutes): 9\n",
      "Time elapsed (minutes): 10\n",
      "Time elapsed (minutes): 11\n",
      "Time elapsed (minutes): 12\n",
      "Time elapsed (minutes): 13\n",
      "Time elapsed (minutes): 14\n",
      "Time elapsed (minutes): 15\n",
      "Time elapsed (minutes): 16\n",
      "Time elapsed (minutes): 17\n",
      "Time elapsed (minutes): 18\n",
      "Time elapsed (minutes): 19\n",
      "Time elapsed (minutes): 20\n",
      "Time elapsed (minutes): 21\n",
      "Time elapsed (minutes): 22\n",
      "Time elapsed (minutes): 23\n",
      "Time elapsed (minutes): 24\n",
      "Time elapsed (minutes): 25\n",
      "Time elapsed (minutes): 26\n",
      "Time elapsed (minutes): 27\n",
      "Time elapsed (minutes): 28\n",
      "Time elapsed (minutes): 29\n",
      "Time elapsed (minutes): 30\n",
      "done\n"
     ]
    }
   ],
   "source": [
    "ctr = 0\n",
    "maxTime = 30 # minutes\n",
    "\n",
    "\n",
    "while msvcrt.kbhit():\n",
    "    msvcrt.getch()\n",
    "    print('clearing characters ...')\n",
    "\n",
    "\n",
    "while True:\n",
    "\n",
    "    if ctr == 0:\n",
    "        \n",
    "        minuteCounter = 0\n",
    "       \n",
    "        txt = ser1.readline().decode(\"utf-8\")\n",
    "        colNames = [\"A\" + str(i) for i, _ in enumerate(txt.split(','))]\n",
    "        colNames.append(\"datetime\")\n",
    "        \n",
    "        # make file  and write header\n",
    "        fileStart = datetime.now()\n",
    "        fname = (fileStart.strftime('%Y-%m-%d %H:%M:%S.%f'))\n",
    "        fname = re.sub(r'[^\\w\\s]','_',fname)\n",
    "        fname = re.sub(\" \", \"__\", fname)[0:] + \".csv\"\n",
    "\n",
    "        with open(os.path.join(dataDir, fname), 'a+', newline='') as myfile:\n",
    "            wr = csv.writer(myfile, quoting=csv.QUOTE_ALL)\n",
    "            wr.writerows([colNames])\n",
    "    \n",
    "    \n",
    "    # read data\n",
    "    txt = ser1.readline().decode(\"utf-8\")\n",
    "    serData = [int(i) for i in txt.split(',')]\n",
    "    readTime = datetime.now()\n",
    "    serData.append(readTime.strftime('%Y-%m-%d %H:%M:%S.%f'))\n",
    "\n",
    "    # write data\n",
    "    with open(os.path.join(dataDir, fname), 'a+', newline='') as myfile:\n",
    "        wr = csv.writer(myfile, quoting=csv.QUOTE_ALL)\n",
    "        wr.writerows([serData])\n",
    "\n",
    "    \n",
    "    if msvcrt.kbhit(): # if q, or escape is pressed, then break\n",
    "        k = msvcrt.getch()\n",
    "        if(k == b'q') | (k == b'\\x1b') | (k == b'\\x0b') :\n",
    "            print(\"keyboard break\")\n",
    "            winsound.MessageBeep()\n",
    "            break\n",
    "            \n",
    "    c = readTime - fileStart\n",
    "    if c.total_seconds()//60 == minuteCounter:\n",
    "        print(\"Time elapsed (minutes):\", minuteCounter)\n",
    "        minuteCounter += 1\n",
    "    \n",
    "    if divmod(c.days * 86400 + c.seconds, 60)[0] >= maxTime:\n",
    "        break\n",
    "\n",
    "    # update ctr\n",
    "    ctr += 1\n",
    "\n",
    "print('done')"
   ]
  },
  {
   "cell_type": "code",
   "execution_count": 39,
   "metadata": {},
   "outputs": [
    {
     "data": {
      "text/plain": [
       "30.000105150000003"
      ]
     },
     "execution_count": 39,
     "metadata": {},
     "output_type": "execute_result"
    }
   ],
   "source": [
    "c.total_seconds()/60"
   ]
  },
  {
   "cell_type": "code",
   "execution_count": 40,
   "metadata": {},
   "outputs": [
    {
     "name": "stdout",
     "output_type": "stream",
     "text": [
      "(217629, 3)\n"
     ]
    },
    {
     "data": {
      "text/html": [
       "<div>\n",
       "<style scoped>\n",
       "    .dataframe tbody tr th:only-of-type {\n",
       "        vertical-align: middle;\n",
       "    }\n",
       "\n",
       "    .dataframe tbody tr th {\n",
       "        vertical-align: top;\n",
       "    }\n",
       "\n",
       "    .dataframe thead th {\n",
       "        text-align: right;\n",
       "    }\n",
       "</style>\n",
       "<table border=\"1\" class=\"dataframe\">\n",
       "  <thead>\n",
       "    <tr style=\"text-align: right;\">\n",
       "      <th></th>\n",
       "      <th>A0</th>\n",
       "      <th>A1</th>\n",
       "      <th>datetime</th>\n",
       "    </tr>\n",
       "  </thead>\n",
       "  <tbody>\n",
       "    <tr>\n",
       "      <th>217624</th>\n",
       "      <td>117</td>\n",
       "      <td>113</td>\n",
       "      <td>2019-07-22 15:44:06.448049</td>\n",
       "    </tr>\n",
       "    <tr>\n",
       "      <th>217625</th>\n",
       "      <td>114</td>\n",
       "      <td>114</td>\n",
       "      <td>2019-07-22 15:44:06.456277</td>\n",
       "    </tr>\n",
       "    <tr>\n",
       "      <th>217626</th>\n",
       "      <td>114</td>\n",
       "      <td>114</td>\n",
       "      <td>2019-07-22 15:44:06.464425</td>\n",
       "    </tr>\n",
       "    <tr>\n",
       "      <th>217627</th>\n",
       "      <td>114</td>\n",
       "      <td>114</td>\n",
       "      <td>2019-07-22 15:44:06.472625</td>\n",
       "    </tr>\n",
       "    <tr>\n",
       "      <th>217628</th>\n",
       "      <td>115</td>\n",
       "      <td>113</td>\n",
       "      <td>2019-07-22 15:44:06.480832</td>\n",
       "    </tr>\n",
       "  </tbody>\n",
       "</table>\n",
       "</div>"
      ],
      "text/plain": [
       "         A0   A1                   datetime\n",
       "217624  117  113 2019-07-22 15:44:06.448049\n",
       "217625  114  114 2019-07-22 15:44:06.456277\n",
       "217626  114  114 2019-07-22 15:44:06.464425\n",
       "217627  114  114 2019-07-22 15:44:06.472625\n",
       "217628  115  113 2019-07-22 15:44:06.480832"
      ]
     },
     "execution_count": 40,
     "metadata": {},
     "output_type": "execute_result"
    }
   ],
   "source": [
    "# look at data\n",
    "# read in data\n",
    "dfile = os.path.join(dataDir,fname)\n",
    "df1 = pd.read_csv(dfile)\n",
    "#df1 = df1.iloc[1500:2000,:].copy()\n",
    "df1['datetime']= pd.to_datetime(df1['datetime'])\n",
    "print(df1.shape)\n",
    "df1.tail()"
   ]
  },
  {
   "cell_type": "code",
   "execution_count": 41,
   "metadata": {},
   "outputs": [
    {
     "data": {
      "image/png": "[encoded data removed]",
      "text/plain": [
       "<Figure size 720x216 with 1 Axes>"
      ]
     },
     "metadata": {
      "needs_background": "light"
     },
     "output_type": "display_data"
    }
   ],
   "source": [
    "fig, ax = plt.subplots(1,1, figsize = [10, 3])\n",
    "ax.plot(df1.datetime, df1.A0)\n",
    "fig.autofmt_xdate()\n",
    "plt.show()\n"
   ]
  },
  {
   "cell_type": "code",
   "execution_count": 42,
   "metadata": {},
   "outputs": [
    {
     "data": {
      "text/plain": [
       "'2019_07_22__15_14_06_474523.csv'"
      ]
     },
     "execution_count": 42,
     "metadata": {},
     "output_type": "execute_result"
    }
   ],
   "source": [
    "fname"
   ]
  },
  {
   "cell_type": "code",
   "execution_count": null,
   "metadata": {},
   "outputs": [],
   "source": []
  }
 ],
 "metadata": {
  "kernelspec": {
   "display_name": "photogate",
   "language": "python",
   "name": "photogate"
  },
  "language_info": {
   "codemirror_mode": {
    "name": "ipython",
    "version": 3
   },
   "file_extension": ".py",
   "mimetype": "text/x-python",
   "name": "python",
   "nbconvert_exporter": "python",
   "pygments_lexer": "ipython3",
   "version": "3.7.3"
  }
 },
 "nbformat": 4,
 "nbformat_minor": 2
}
