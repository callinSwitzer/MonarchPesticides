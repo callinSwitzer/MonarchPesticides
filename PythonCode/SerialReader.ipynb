{
 "cells": [
  {
   "cell_type": "code",
   "execution_count": null,
   "metadata": {},
   "outputs": [],
   "source": [
    "# Callin Switzer\n",
    "# 16 July 2019\n",
    "# python infrared reader"
   ]
  },
  {
   "cell_type": "code",
   "execution_count": 2,
   "metadata": {},
   "outputs": [],
   "source": [
    "import numpy as np\n",
    "import matplotlib.pyplot as plt\n",
    "import pandas as pd\n",
    "import serial\n",
    "import re\n",
    "import csv\n",
    "import seaborn as sns\n",
    "import warnings\n",
    "import sys\n",
    "import os\n",
    "from datetime import datetime\n",
    "import glob\n",
    "import time\n",
    "import io"
   ]
  },
  {
   "cell_type": "code",
   "execution_count": 3,
   "metadata": {},
   "outputs": [],
   "source": [
    "def is_mac():\n",
    "    mac = True if sys.platform == \"darwin\" else False\n",
    "    return(mac)\n",
    "    \n",
    "if not is_mac():\n",
    "    import msvcrt\n",
    "    import winsound"
   ]
  },
  {
   "cell_type": "code",
   "execution_count": 4,
   "metadata": {},
   "outputs": [
    {
     "name": "stdout",
     "output_type": "stream",
     "text": [
      "3.7.4 (default, Aug 13 2019, 15:17:50) \n",
      "[Clang 4.0.1 (tags/RELEASE_401/final)]\n",
      "/Users/cswitzer/anaconda3/envs/photogate/bin/python\n"
     ]
    }
   ],
   "source": [
    "%matplotlib inline\n",
    "print(sys.version)\n",
    "print(sys.executable)\n",
    "\n",
    "# define directories\n",
    "baseDir = os.getcwd()\n",
    "\n",
    "# data for storing datafile\n",
    "dataDir = r\"/Users/cswitzer/Desktop/MonarchSensor\"\n",
    "if not os.path.isdir(dataDir):\n",
    "    os.mkdir(dataDir)\n",
    "\n",
    "figDir = r\"/Users/cswitzer/Desktop/MonarchFigs\"\n",
    "if not os.path.isdir(figDir):\n",
    "    os.mkdir(figDir)"
   ]
  },
  {
   "cell_type": "code",
   "execution_count": 5,
   "metadata": {},
   "outputs": [
    {
     "data": {
      "text/plain": [
       "['/dev/tty.Bluetooth-Incoming-Port', '/dev/tty.usbmodem14101']"
      ]
     },
     "execution_count": 5,
     "metadata": {},
     "output_type": "execute_result"
    }
   ],
   "source": [
    "def serial_ports():\n",
    "    \"\"\" Lists serial port names\n",
    "        :raises EnvironmentError:\n",
    "            On unsupported or unknown platforms\n",
    "        :returns:\n",
    "            A list of the serial ports available on the system\n",
    "    \"\"\"\n",
    "    if sys.platform.startswith('win'):\n",
    "        ports = ['COM%s' % (i + 1) for i in range(256)]\n",
    "    elif sys.platform.startswith('linux') or sys.platform.startswith('cygwin'):\n",
    "        # this excludes your current terminal \"/dev/tty\"\n",
    "        ports = glob.glob('/dev/tty[A-Za-z]*')\n",
    "    elif sys.platform.startswith('darwin'):\n",
    "        ports = glob.glob('/dev/tty.*')\n",
    "    else:\n",
    "        raise EnvironmentError('Unsupported platform')\n",
    "\n",
    "    result = []\n",
    "    for port in ports:\n",
    "        try:\n",
    "            s = serial.Serial(port)\n",
    "            s.close()\n",
    "            result.append(port)\n",
    "        except (OSError, serial.SerialException):\n",
    "            pass\n",
    "    return result\n",
    "\n",
    "# list serial ports\n",
    "serial_ports() # this arduino is on COM6"
   ]
  },
  {
   "cell_type": "code",
   "execution_count": 16,
   "metadata": {},
   "outputs": [
    {
     "name": "stdout",
     "output_type": "stream",
     "text": [
      "connected to arduino on /dev/tty.usbmodem14101\n",
      " Setup complete\n",
      "\n"
     ]
    }
   ],
   "source": [
    "# connect to arduino\n",
    "PORT1 = '/dev/tty.usbmodem14101'\n",
    "connected1 = False\n",
    "if \"ser1\" in globals():\n",
    "    ser1.close()\n",
    "    \n",
    "#115200\n",
    "ser1 = serial.Serial(PORT1, 115200, timeout=0.1) # stop if no data comes in 1 second\n",
    "while not connected1:\n",
    "    serin1 = ser1.readline()\n",
    "    connected1 = True\n",
    "    print(\"connected to arduino on \" + PORT1)\n",
    "\n",
    "time.sleep(3)\n",
    "serin1 = ser1.readline()\n",
    "print(serin1.decode(\"utf-8\")) # should say \"setup complete\""
   ]
  },
  {
   "cell_type": "code",
   "execution_count": 17,
   "metadata": {},
   "outputs": [
    {
     "name": "stdout",
     "output_type": "stream",
     "text": [
      "1567724080.755247\n"
     ]
    },
    {
     "data": {
      "text/plain": [
       "'2019-09-05 22:54:40.755247'"
      ]
     },
     "execution_count": 17,
     "metadata": {},
     "output_type": "execute_result"
    }
   ],
   "source": [
    "\n",
    "fileStart = time.time()\n",
    "print(fileStart)\n",
    "fname = time.strftime('%Y-%m-%d %H:%M:%S', time.gmtime(fileStart)) + \".\" + str(fileStart).split(\".\")[1]\n",
    "fname"
   ]
  },
  {
   "cell_type": "code",
   "execution_count": 40,
   "metadata": {},
   "outputs": [
    {
     "name": "stdout",
     "output_type": "stream",
     "text": [
      "done\n"
     ]
    }
   ],
   "source": [
    "ctr = 0\n",
    "ctr2 = 0\n",
    "maxTime = 1 # minutes\n",
    "previousTime = time.time_ns() / (10 ** 9)\n",
    "\n",
    "\n",
    "while ctr2 < 1000:\n",
    "        \n",
    "    currentTime = time.time_ns() / (10 ** 9)\n",
    "    \n",
    "    if ctr == 0:\n",
    "        \n",
    "        minuteCounter = 0\n",
    "        \n",
    "        ser1.write(\"r\".encode(\"utf-8\"))\n",
    "        txt = ser1.readline().decode(\"utf-8\")\n",
    "        \n",
    "        if txt == \"\":\n",
    "            print(\"restart\")\n",
    "            continue\n",
    "        \n",
    "        colNames = [\"A\" + str(i) for i, _ in enumerate(txt.split(','))]\n",
    "        colNames.append(\"datetime\")\n",
    "        \n",
    "        # make file  and write header\n",
    "        fileStart = datetime.now()\n",
    "        fname = (fileStart.strftime('%Y-%m-%d %H:%M:%S.%f'))\n",
    "        fname = re.sub(r'[^\\w\\s]','_',fname)\n",
    "        fname = re.sub(\" \", \"__\", fname)[0:] + \".csv\"\n",
    "\n",
    "        with open(os.path.join(dataDir, fname), 'a+', newline='') as myfile:\n",
    "            wr = csv.writer(myfile, quoting=csv.QUOTE_ALL)\n",
    "            wr.writerows([colNames])\n",
    "    \n",
    "    if (currentTime - previousTime) >= 0.01:\n",
    "        # read data\n",
    "        ser1.write(\"r\".encode(\"utf-8\"))\n",
    "        txt1 = ser1.readline().decode(\"utf-8\")\n",
    "\n",
    "        if txt1 != -1:\n",
    "            txt = txt1.split(\",\")\n",
    "\n",
    "            if ((len(txt) + 1) == len(colNames)):\n",
    "                with open(os.path.join(dataDir, fname), 'a+', newline='') as myfile:\n",
    "                    wr = csv.writer(myfile, quoting=csv.QUOTE_ALL)\n",
    "                    txt.append(time.time_ns() / (10 ** 9))\n",
    "                    wr.writerows([txt])\n",
    "                    ctr2 += 1\n",
    "\n",
    "        previousTime = currentTime\n",
    "        ctr += 1\n",
    "    \n",
    "\n",
    "\n",
    "print('done')"
   ]
  },
  {
   "cell_type": "code",
   "execution_count": 41,
   "metadata": {},
   "outputs": [
    {
     "name": "stdout",
     "output_type": "stream",
     "text": [
      "(1000, 8)\n"
     ]
    },
    {
     "data": {
      "text/html": [
       "<div>\n",
       "<style scoped>\n",
       "    .dataframe tbody tr th:only-of-type {\n",
       "        vertical-align: middle;\n",
       "    }\n",
       "\n",
       "    .dataframe tbody tr th {\n",
       "        vertical-align: top;\n",
       "    }\n",
       "\n",
       "    .dataframe thead th {\n",
       "        text-align: right;\n",
       "    }\n",
       "</style>\n",
       "<table border=\"1\" class=\"dataframe\">\n",
       "  <thead>\n",
       "    <tr style=\"text-align: right;\">\n",
       "      <th></th>\n",
       "      <th>A0</th>\n",
       "      <th>A1</th>\n",
       "      <th>A2</th>\n",
       "      <th>A3</th>\n",
       "      <th>A4</th>\n",
       "      <th>A5</th>\n",
       "      <th>A6</th>\n",
       "      <th>datetime</th>\n",
       "    </tr>\n",
       "  </thead>\n",
       "  <tbody>\n",
       "    <tr>\n",
       "      <td>0</td>\n",
       "      <td>310</td>\n",
       "      <td>225</td>\n",
       "      <td>221</td>\n",
       "      <td>220</td>\n",
       "      <td>306</td>\n",
       "      <td>344</td>\n",
       "      <td>7172</td>\n",
       "      <td>1.567724e+09</td>\n",
       "    </tr>\n",
       "    <tr>\n",
       "      <td>1</td>\n",
       "      <td>310</td>\n",
       "      <td>225</td>\n",
       "      <td>221</td>\n",
       "      <td>215</td>\n",
       "      <td>283</td>\n",
       "      <td>322</td>\n",
       "      <td>4144</td>\n",
       "      <td>1.567724e+09</td>\n",
       "    </tr>\n",
       "    <tr>\n",
       "      <td>2</td>\n",
       "      <td>310</td>\n",
       "      <td>225</td>\n",
       "      <td>221</td>\n",
       "      <td>241</td>\n",
       "      <td>322</td>\n",
       "      <td>345</td>\n",
       "      <td>10016</td>\n",
       "      <td>1.567724e+09</td>\n",
       "    </tr>\n",
       "    <tr>\n",
       "      <td>3</td>\n",
       "      <td>310</td>\n",
       "      <td>225</td>\n",
       "      <td>221</td>\n",
       "      <td>227</td>\n",
       "      <td>309</td>\n",
       "      <td>344</td>\n",
       "      <td>9972</td>\n",
       "      <td>1.567724e+09</td>\n",
       "    </tr>\n",
       "    <tr>\n",
       "      <td>4</td>\n",
       "      <td>310</td>\n",
       "      <td>225</td>\n",
       "      <td>221</td>\n",
       "      <td>223</td>\n",
       "      <td>290</td>\n",
       "      <td>318</td>\n",
       "      <td>10012</td>\n",
       "      <td>1.567724e+09</td>\n",
       "    </tr>\n",
       "  </tbody>\n",
       "</table>\n",
       "</div>"
      ],
      "text/plain": [
       "    A0   A1   A2   A3   A4   A5     A6      datetime\n",
       "0  310  225  221  220  306  344   7172  1.567724e+09\n",
       "1  310  225  221  215  283  322   4144  1.567724e+09\n",
       "2  310  225  221  241  322  345  10016  1.567724e+09\n",
       "3  310  225  221  227  309  344   9972  1.567724e+09\n",
       "4  310  225  221  223  290  318  10012  1.567724e+09"
      ]
     },
     "execution_count": 41,
     "metadata": {},
     "output_type": "execute_result"
    }
   ],
   "source": [
    "# look at data\n",
    "# read in data\n",
    "dfile = os.path.join(dataDir,fname)\n",
    "df1 = pd.read_csv(dfile)\n",
    "#df1 = df1.iloc[1500:2000,:].copy()\n",
    "#df1['datetime']= pd.to_datetime(df1['datetime'])\n",
    "print(df1.shape)\n",
    "df1.head()"
   ]
  },
  {
   "cell_type": "code",
   "execution_count": 42,
   "metadata": {},
   "outputs": [
    {
     "data": {
      "image/png": "[encoded data removed]",
      "text/plain": [
       "<Figure size 1440x504 with 1 Axes>"
      ]
     },
     "metadata": {
      "needs_background": "light"
     },
     "output_type": "display_data"
    }
   ],
   "source": [
    "fig, ax = plt.subplots(1,1, figsize = [20,7])\n",
    "for ii in range(3):\n",
    "    ax.plot(df1.datetime, df1.iloc[:,ii])\n",
    "fig.autofmt_xdate()\n",
    "plt.show()"
   ]
  },
  {
   "cell_type": "code",
   "execution_count": 43,
   "metadata": {},
   "outputs": [
    {
     "data": {
      "text/plain": [
       "(9960, 10100)"
      ]
     },
     "execution_count": 43,
     "metadata": {},
     "output_type": "execute_result"
    },
    {
     "data": {
      "image/png": "[encoded data removed]",
      "text/plain": [
       "<Figure size 432x288 with 1 Axes>"
      ]
     },
     "metadata": {
      "needs_background": "light"
     },
     "output_type": "display_data"
    }
   ],
   "source": [
    "plt.plot(df1.A6, 'bo')\n",
    "plt.ylabel(\"Num milliseconds between samples\")\n",
    "plt.ylim(9960, 10100)"
   ]
  },
  {
   "cell_type": "code",
   "execution_count": 44,
   "metadata": {},
   "outputs": [
    {
     "data": {
      "text/plain": [
       "Text(0.5, 0, 'sample num')"
      ]
     },
     "execution_count": 44,
     "metadata": {},
     "output_type": "execute_result"
    },
    {
     "data": {
      "image/png": "[encoded data removed]",
      "text/plain": [
       "<Figure size 432x288 with 1 Axes>"
      ]
     },
     "metadata": {
      "needs_background": "light"
     },
     "output_type": "display_data"
    }
   ],
   "source": [
    "# calculate sampling rate\n",
    "# we can speed this up if needed\n",
    "# it's not super constant\n",
    "timeDiff = np.diff(np.array(df1.datetime))\n",
    "plt.plot(1/timeDiff, 'bo')\n",
    "plt.ylabel(\"Hz\")\n",
    "plt.xlabel(\"sample num\")"
   ]
  },
  {
   "cell_type": "code",
   "execution_count": 47,
   "metadata": {},
   "outputs": [
    {
     "data": {
      "text/plain": [
       "[<matplotlib.lines.Line2D at 0x1a1d7c4d10>]"
      ]
     },
     "execution_count": 47,
     "metadata": {},
     "output_type": "execute_result"
    },
    {
     "data": {
      "image/png": "[encoded data removed]",
      "text/plain": [
       "<Figure size 432x288 with 1 Axes>"
      ]
     },
     "metadata": {
      "needs_background": "light"
     },
     "output_type": "display_data"
    }
   ],
   "source": [
    "plt.plot(timeDiff, \"bo\")"
   ]
  },
  {
   "cell_type": "code",
   "execution_count": null,
   "metadata": {},
   "outputs": [],
   "source": [
    "df1.head()"
   ]
  },
  {
   "cell_type": "code",
   "execution_count": 15,
   "metadata": {},
   "outputs": [],
   "source": [
    "ser1.close()"
   ]
  },
  {
   "cell_type": "code",
   "execution_count": 37,
   "metadata": {},
   "outputs": [
    {
     "data": {
      "text/plain": [
       "1567722951.220906"
      ]
     },
     "execution_count": 37,
     "metadata": {},
     "output_type": "execute_result"
    }
   ],
   "source": []
  },
  {
   "cell_type": "code",
   "execution_count": null,
   "metadata": {},
   "outputs": [],
   "source": [
    "ctr = 0\n",
    "maxTime = 6 # minutes\n",
    "\n",
    "\n",
    "if not is_mac():\n",
    "    while msvcrt.kbhit():\n",
    "        msvcrt.getch()\n",
    "        print('clearing characters ...')\n",
    "\n",
    "\n",
    "while True:\n",
    "    if not is_mac():\n",
    "        if msvcrt.kbhit(): # if q, or escape is pressed, then break the loop\n",
    "            k = msvcrt.getch()\n",
    "            if(k == b'q') | (k == b'\\x1b') | (k == b'\\x0b') :\n",
    "                print(\"keyboard break\")\n",
    "                winsound.MessageBeep()\n",
    "                break\n",
    "            \n",
    "\n",
    "    if ctr == 0:\n",
    "        \n",
    "        minuteCounter = 0\n",
    "       \n",
    "        # tell arduino to write data to serial\n",
    "        ser1.write(\"r\".encode(\"utf-8\"))\n",
    "        # discard first read line, in case it's the wrong length\n",
    "        ser1.readline()\n",
    "        \n",
    "        ser1.write(\"r\".encode(\"utf-8\"))\n",
    "        txt = ser1.readline().decode(\"utf-8\")\n",
    "        colNames = [\"A\" + str(i) for i, _ in enumerate(txt.split(','))]\n",
    "        colNames.append(\"datetime\")\n",
    "        \n",
    "        # make file  and write header\n",
    "        fileStart = datetime.now()\n",
    "        fname = (fileStart.strftime('%Y-%m-%d %H:%M:%S.%f'))\n",
    "        fname = re.sub(r'[^\\w\\s]','_',fname)\n",
    "        fname = re.sub(\" \", \"__\", fname)[0:] + \".csv\"\n",
    "\n",
    "        with open(os.path.join(dataDir, fname), 'a+', newline='') as myfile:\n",
    "            wr = csv.writer(myfile, quoting=csv.QUOTE_ALL)\n",
    "            wr.writerows([colNames])\n",
    "    \n",
    "    \n",
    "    # read data\n",
    "    ser1.write(\"r\".encode(\"utf-8\"))\n",
    "    txt = ser1.readline().decode(\"utf-8\")\n",
    "    \n",
    "    serData = [int(i) for i in txt.split(',') if i != \"\"]\n",
    "    readTime = datetime.now()\n",
    "    serData.append(readTime.strftime('%Y-%m-%d %H:%M:%S.%f'))\n",
    "\n",
    "    # write data, but only if it's not an incorrect reading\n",
    "    if (len(serData) != len(colNames)):\n",
    "        print(\"data length is different from length of columns, dropping a reading\")\n",
    "        print(serData)\n",
    "        print(colNames)\n",
    "        continue\n",
    "        \n",
    "    elif (np.max(serData[:-1]) > 1023):\n",
    "        print(\"data range incorrect, dropping a reading\")\n",
    "        continue\n",
    "    \n",
    "    else:\n",
    "        with open(os.path.join(dataDir, fname), 'a+', newline='') as myfile:\n",
    "            wr = csv.writer(myfile, quoting=csv.QUOTE_ALL)\n",
    "            wr.writerows([serData])\n",
    "\n",
    "    # print time\n",
    "    c = readTime - fileStart\n",
    "    if c.total_seconds()//60 == minuteCounter:\n",
    "        print(\"Time elapsed (minutes):\", minuteCounter)\n",
    "        minuteCounter += 5 # print every 5 minutes\n",
    "    \n",
    "    if divmod(c.days * 86400 + c.seconds, 60)[0] >= maxTime:\n",
    "        break   \n",
    "    \n",
    "    # update ctr\n",
    "    ctr += 1\n",
    "#     ser1.flushInput()\n",
    "\n",
    "print('done')"
   ]
  },
  {
   "cell_type": "code",
   "execution_count": null,
   "metadata": {},
   "outputs": [],
   "source": [
    "c.total_seconds()/60"
   ]
  },
  {
   "cell_type": "code",
   "execution_count": null,
   "metadata": {},
   "outputs": [],
   "source": [
    "# look at data\n",
    "# read in data\n",
    "dfile = os.path.join(dataDir,fname)\n",
    "df1 = pd.read_csv(dfile)\n",
    "#df1 = df1.iloc[1500:2000,:].copy()\n",
    "df1['datetime']= pd.to_datetime(df1['datetime'])\n",
    "print(df1.shape)\n",
    "df1.tail()\n",
    "\n",
    "fig, ax = plt.subplots(1,1, figsize = [20,7])\n",
    "for ii in range(3):\n",
    "    ax.plot(df1.datetime, df1.iloc[:,ii])\n",
    "fig.autofmt_xdate()\n",
    "plt.show()\n"
   ]
  },
  {
   "cell_type": "code",
   "execution_count": null,
   "metadata": {},
   "outputs": [],
   "source": [
    "fname"
   ]
  },
  {
   "cell_type": "code",
   "execution_count": null,
   "metadata": {},
   "outputs": [],
   "source": [
    "# calculate sampling rate\n",
    "# we can speed this up if needed\n",
    "# it's not super constant\n",
    "timeDiff = df1.datetime.diff() / np.timedelta64(1, 's')\n",
    "plt.plot(1/timeDiff, 'bo')\n",
    "plt.ylabel(\"Hz\")\n",
    "plt.xlabel(\"sample num\")"
   ]
  },
  {
   "cell_type": "code",
   "execution_count": null,
   "metadata": {},
   "outputs": [],
   "source": [
    "# calculate sampling rate\n",
    "# we can speed this up if needed\n",
    "# it's not super constant\n",
    "timeDiff = df1.datetime.diff() / np.timedelta64(1, 's')\n",
    "plt.plot(1/timeDiff[400:])\n",
    "plt.ylabel(\"Hz\")\n",
    "plt.xlabel(\"sample num\")"
   ]
  },
  {
   "cell_type": "code",
   "execution_count": null,
   "metadata": {},
   "outputs": [],
   "source": []
  },
  {
   "cell_type": "code",
   "execution_count": null,
   "metadata": {},
   "outputs": [],
   "source": []
  },
  {
   "cell_type": "code",
   "execution_count": null,
   "metadata": {},
   "outputs": [],
   "source": []
  },
  {
   "cell_type": "code",
   "execution_count": null,
   "metadata": {},
   "outputs": [],
   "source": []
  },
  {
   "cell_type": "code",
   "execution_count": null,
   "metadata": {},
   "outputs": [],
   "source": []
  },
  {
   "cell_type": "code",
   "execution_count": null,
   "metadata": {},
   "outputs": [],
   "source": [
    "#TESTING"
   ]
  },
  {
   "cell_type": "code",
   "execution_count": null,
   "metadata": {},
   "outputs": [],
   "source": [
    "ctr = 0\n",
    "maxTime = 6 # minutes\n",
    "\n",
    "for ii in range(5000):\n",
    "    if ctr == 0:\n",
    "        \n",
    "        minuteCounter = 0\n",
    "       \n",
    "        txt = ser1.readline().decode(\"utf-8\")\n",
    "        colNames = [\"A\" + str(i) for i, _ in enumerate(txt.split(','))]\n",
    "        colNames.append(\"datetime\")\n",
    "        \n",
    "        # make file  and write header\n",
    "        fileStart = datetime.now()\n",
    "        fname = (fileStart.strftime('%Y-%m-%d %H:%M:%S.%f'))\n",
    "        fname = re.sub(r'[^\\w\\s]','_',fname)\n",
    "        fname = re.sub(\" \", \"__\", fname)[0:] + \".csv\"\n",
    "\n",
    "        with open(os.path.join(dataDir, fname), 'a+', newline='') as myfile:\n",
    "            wr = csv.writer(myfile, quoting=csv.QUOTE_ALL)\n",
    "            wr.writerows([colNames])\n",
    "    \n",
    "    \n",
    "    # read data\n",
    "    ser1.write(\"r\".encode(\"utf-8\"))\n",
    "    txt = ser1.readline().decode(\"utf-8\")\n",
    "\n",
    "\n",
    "    with open(os.path.join(dataDir, fname), 'a+', newline='') as myfile:\n",
    "        wr = csv.writer(myfile, quoting=csv.QUOTE_ALL)\n",
    "        wr.writerows([(txt + \",\" + datetime.now().\n",
    "                      strftime('%Y-%m-%d %H:%M:%S.%f')).rstrip().split(\",\")])\n",
    "\n",
    "#     # print time\n",
    "#     c = readTime - fileStart\n",
    "#     if c.total_seconds()//60 == minuteCounter:\n",
    "#         print(\"Time elapsed (minutes):\", minuteCounter)\n",
    "#         minuteCounter += 5 # print every 5 minutes\n",
    "    \n",
    "#     if divmod(c.days * 86400 + c.seconds, 60)[0] >= maxTime:\n",
    "#         break   \n",
    "    \n",
    "    # update ctr\n",
    "    ctr += 1\n",
    "\n",
    "\n",
    "print('done')"
   ]
  },
  {
   "cell_type": "code",
   "execution_count": 5,
   "metadata": {},
   "outputs": [
    {
     "data": {
      "text/plain": [
       "10"
      ]
     },
     "execution_count": 5,
     "metadata": {},
     "output_type": "execute_result"
    }
   ],
   "source": [
    "int.from_bytes(b'\\n', byteorder='big')"
   ]
  },
  {
   "cell_type": "code",
   "execution_count": null,
   "metadata": {},
   "outputs": [],
   "source": []
  },
  {
   "cell_type": "code",
   "execution_count": null,
   "metadata": {},
   "outputs": [],
   "source": [
    "readTime = datetime.now()\n",
    "readTime.strftime('%Y-%m-%d %H:%M:%S.%f') + \",\" + txt"
   ]
  },
  {
   "cell_type": "code",
   "execution_count": null,
   "metadata": {},
   "outputs": [],
   "source": [
    "with open(os.path.join(dataDir, fname), 'a+', newline='') as myfile:\n",
    "    wr = csv.writer(myfile, quoting=csv.QUOTE_ALL)\n",
    "    wr.writerows([(readTime.strftime('%Y-%m-%d %H:%M:%S.%f') + \",\" + txt).split(\",\")])"
   ]
  },
  {
   "cell_type": "code",
   "execution_count": null,
   "metadata": {},
   "outputs": [],
   "source": [
    "[(txt + \",\" + datetime.now().\n",
    "  strftime('%Y-%m-%d %H:%M:%S.%f')).rstrip().split(\",\")]"
   ]
  },
  {
   "cell_type": "code",
   "execution_count": null,
   "metadata": {},
   "outputs": [],
   "source": []
  }
 ],
 "metadata": {
  "kernelspec": {
   "display_name": "photogate",
   "language": "python",
   "name": "photogate"
  },
  "language_info": {
   "codemirror_mode": {
    "name": "ipython",
    "version": 3
   },
   "file_extension": ".py",
   "mimetype": "text/x-python",
   "name": "python",
   "nbconvert_exporter": "python",
   "pygments_lexer": "ipython3",
   "version": "3.7.4"
  }
 },
 "nbformat": 4,
 "nbformat_minor": 2
}
